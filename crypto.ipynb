{
 "cells": [
  {
   "cell_type": "code",
   "execution_count": 69,
   "metadata": {
    "collapsed": true
   },
   "outputs": [],
   "source": [
    "import time\n",
    "import pandas as pd\n",
    "import datetime as dt\n",
    "\n",
    "_dt_dt_ = dt.datetime\n",
    "_dt_d_  = dt.date\n",
    "\n",
    "from binance.client import Client"
   ]
  },
  {
   "cell_type": "code",
   "execution_count": 15,
   "metadata": {
    "scrolled": true
   },
   "outputs": [],
   "source": [
    "api_key_info = pd.read_csv('/home/yizhang/Research/api_key.csv')\n",
    "api_key      = api_key_info.loc[0, 'value']\n",
    "api_secret   = api_key_info.loc[1, 'value']"
   ]
  },
  {
   "cell_type": "code",
   "execution_count": 16,
   "metadata": {},
   "outputs": [],
   "source": [
    "client = Client(api_key, api_secret)"
   ]
  },
  {
   "cell_type": "code",
   "execution_count": 112,
   "metadata": {
    "collapsed": true
   },
   "outputs": [],
   "source": [
    "def clean_trade_data(trades):\n",
    "    trades[['price', 'qty', 'time', 'bid', 'ask']] = trades[['price', 'qty', 'time', 'bid', 'ask']].astype(float)\n",
    "    trades.loc[:, 'sign'] = 0\n",
    "    trades.loc[:, 'mid']  = 0.5 * (trades.bid + trades.ask)\n",
    "    trades.loc[trades.price < trades.mid, 'sign'] = -1\n",
    "    trades.loc[trades.price > trades.mid, 'sign'] = 1 "
   ]
  },
  {
   "cell_type": "code",
   "execution_count": 126,
   "metadata": {
    "scrolled": true
   },
   "outputs": [
    {
     "name": "stdout",
     "output_type": "stream",
     "text": [
      "20180603 15:28:25.634418: 22.15600000,0.07833100 -- 0.07831100,49.99000000\n",
      "20180603 15:28:26.861718: 19.05800000,0.07833100 -- 0.07831000,3.07900000\n",
      "20180603 15:28:28.221690: 18.96900000,0.07833100 -- 0.07831000,0.00100000\n",
      "20180603 15:28:29.426869: 18.96900000,0.07833100 -- 0.07830900,1.01400000\n",
      "20180603 15:28:30.637458: 18.84000000,0.07833100 -- 0.07830900,0.95400000\n",
      "20180603 15:28:31.853039: 18.84000000,0.07833100 -- 0.07830900,0.89400000\n",
      "20180603 15:28:34.633423: 20.55500000,0.07833100 -- 0.07830900,0.72100000\n",
      "20180603 15:28:36.028583: 20.13600000,0.07833100 -- 0.07830800,0.10000000\n",
      "20180603 15:28:38.120978: 20.08600000,0.07833100 -- 0.07828400,5.44800000\n",
      "20180603 15:28:39.943097: 19.95700000,0.07833100 -- 0.07828500,6.88600000\n"
     ]
    }
   ],
   "source": [
    "# get market depth\n",
    "symbol    = 'ETHBTC'\n",
    "delay     = 1\n",
    "iteration = 0\n",
    "\n",
    "MAX_ITERATIONS = 10\n",
    "\n",
    "while(iteration < MAX_ITERATIONS):\n",
    "    iteration += 1\n",
    "    \n",
    "    depth   = pd.DataFrame(client.get_order_book(symbol=symbol))\n",
    "    \n",
    "    bestAsk = depth.loc[0, 'asks']\n",
    "    bestBid = depth.loc[0, 'bids']\n",
    "    \n",
    "    trades  = pd.DataFrame(client.get_recent_trades(symbol=symbol))\n",
    "    trades.loc[:, 'bid'] = bestBid[0]\n",
    "    trades.loc[:, 'ask'] = bestAsk[0]\n",
    "    \n",
    "    clean_trade_data(trades)\n",
    "    \n",
    "    print (\"%s: %s,%s -- %s,%s\" % (_dt_dt_.now().strftime(\"%Y%m%d %H:%M:%S.%f\"), bestAsk[1], bestAsk[0], bestBid[0], bestBid[1]))\n",
    "    time.sleep(delay)"
   ]
  }
 ],
 "metadata": {
  "kernelspec": {
   "display_name": "Python 3",
   "language": "python",
   "name": "python3"
  },
  "language_info": {
   "codemirror_mode": {
    "name": "ipython",
    "version": 3
   },
   "file_extension": ".py",
   "mimetype": "text/x-python",
   "name": "python",
   "nbconvert_exporter": "python",
   "pygments_lexer": "ipython3",
   "version": "3.6.3"
  }
 },
 "nbformat": 4,
 "nbformat_minor": 2
}
